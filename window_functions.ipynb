{
 "cells": [
  {
   "cell_type": "code",
   "execution_count": 0,
   "metadata": {
    "application/vnd.databricks.v1+cell": {
     "cellMetadata": {
      "byteLimit": 2048000,
      "rowLimit": 10000
     },
     "inputWidgets": {},
     "nuid": "937753cc-cae7-406a-b094-dd31e43bb42c",
     "showTitle": false,
     "tableResultSettingsMap": {},
     "title": ""
    }
   },
   "outputs": [],
   "source": [
    "from pyspark.sql import SparkSession"
   ]
  },
  {
   "cell_type": "code",
   "execution_count": 0,
   "metadata": {
    "application/vnd.databricks.v1+cell": {
     "cellMetadata": {
      "byteLimit": 2048000,
      "rowLimit": 10000
     },
     "inputWidgets": {},
     "nuid": "48937a71-ae41-4284-82d7-75a8ce67c559",
     "showTitle": false,
     "tableResultSettingsMap": {},
     "title": ""
    }
   },
   "outputs": [],
   "source": [
    "spark = SparkSession.builder.appName(\"window_functions\").getOrCreate()"
   ]
  },
  {
   "cell_type": "code",
   "execution_count": 0,
   "metadata": {
    "application/vnd.databricks.v1+cell": {
     "cellMetadata": {
      "byteLimit": 2048000,
      "rowLimit": 10000
     },
     "inputWidgets": {},
     "nuid": "33e17710-4173-4130-9340-b223ecd99895",
     "showTitle": false,
     "tableResultSettingsMap": {},
     "title": ""
    }
   },
   "outputs": [
    {
     "output_type": "stream",
     "name": "stdout",
     "output_type": "stream",
     "text": [
      "+--------------------+----------+-------------------+-------------+-------------+-----------+-----+-------+------+----+--------------------+\n|             company|    sector|           industry|    continent|      country|marketvalue|sales|profits|assets|rank|       forbeswebpage|\n+--------------------+----------+-------------------+-------------+-------------+-----------+-----+-------+------+----+--------------------+\n|                ICBC|Financials|        Major Banks|         Asia|        China|      215.6|148.7|   42.7|3124.9|   1|http://www.forbes...|\n|China Constructio...|Financials|     Regional Banks|         Asia|        China|      174.4|121.3|   34.2|2449.5|   2|http://www.forbes...|\n|Agricultural Bank...|Financials|     Regional Banks|         Asia|        China|      141.1|136.4|     27|2405.4|   3|http://www.forbes...|\n|      JPMorgan Chase|Financials|        Major Banks|North America|United States|      229.7|105.7|   17.3|2435.3|   4|http://www.forbes...|\n|  Berkshire Hathaway|Financials|Investment Services|North America|United States|      309.1|178.8|   19.5| 493.4|   5|http://www.forbes...|\n+--------------------+----------+-------------------+-------------+-------------+-----------+-----+-------+------+----+--------------------+\nonly showing top 5 rows\n\n"
     ]
    }
   ],
   "source": [
    "df = spark.read.csv('dbfs:/FileStore/tables/data_forbes.csv',header= True)\n",
    "df.show(5)"
   ]
  },
  {
   "cell_type": "code",
   "execution_count": 0,
   "metadata": {
    "application/vnd.databricks.v1+cell": {
     "cellMetadata": {
      "byteLimit": 2048000,
      "rowLimit": 10000
     },
     "inputWidgets": {},
     "nuid": "eb86c87e-d134-4d1e-bfb2-ad1c5fb38d93",
     "showTitle": false,
     "tableResultSettingsMap": {},
     "title": ""
    }
   },
   "outputs": [],
   "source": [
    "from pyspark.sql import functions as F\n",
    "from pyspark.sql.window import Window"
   ]
  },
  {
   "cell_type": "code",
   "execution_count": 0,
   "metadata": {
    "application/vnd.databricks.v1+cell": {
     "cellMetadata": {
      "byteLimit": 2048000,
      "rowLimit": 10000
     },
     "inputWidgets": {},
     "nuid": "7f46c5cb-5b08-45eb-b5f2-e38e88435095",
     "showTitle": false,
     "tableResultSettingsMap": {},
     "title": ""
    }
   },
   "outputs": [],
   "source": [
    "wndw = Window.partitionBy(\"continent\",\"sector\").orderBy(F.desc(\"profits\"))"
   ]
  },
  {
   "cell_type": "code",
   "execution_count": 0,
   "metadata": {
    "application/vnd.databricks.v1+cell": {
     "cellMetadata": {
      "byteLimit": 2048000,
      "rowLimit": 10000
     },
     "inputWidgets": {},
     "nuid": "b89a6202-2a97-4634-a7aa-fd24d78e5c23",
     "showTitle": false,
     "tableResultSettingsMap": {},
     "title": ""
    }
   },
   "outputs": [],
   "source": [
    "w_df = df.withColumn(\"c_rank\", F.rank().over(wndw))"
   ]
  },
  {
   "cell_type": "code",
   "execution_count": 0,
   "metadata": {
    "application/vnd.databricks.v1+cell": {
     "cellMetadata": {
      "byteLimit": 2048000,
      "rowLimit": 10000
     },
     "inputWidgets": {},
     "nuid": "9eceb3ac-15c7-4968-84d7-8f8bf94d545e",
     "showTitle": false,
     "tableResultSettingsMap": {},
     "title": ""
    }
   },
   "outputs": [
    {
     "output_type": "stream",
     "name": "stdout",
     "output_type": "stream",
     "text": [
      "+--------------------+--------------------+--------------------+---------+------------+-----------+-----+-------+------+----+--------------------+------+\n|             company|              sector|            industry|continent|     country|marketvalue|sales|profits|assets|rank|       forbeswebpage|c_rank|\n+--------------------+--------------------+--------------------+---------+------------+-----------+-----+-------+------+----+--------------------+------+\n|Steinhoff Interna...|Consumer Discreti...|Furniture & Fixtures|   Africa|South Africa|       10.5|   13|    0.9|  18.5| 672|http://www.forbes...|     1|\n| Standard Bank Group|          Financials|         Major Banks|   Africa|South Africa|       21.4| 16.4|    1.7| 161.4| 287|http://www.forbes...|     1|\n|           FirstRand|          Financials|         Major Banks|   Africa|South Africa|       18.8|  6.3|    1.7|  85.4| 475|http://www.forbes...|     1|\n|               Sasol|           Materials|Diversified Chemi...|   Africa|South Africa|         37| 20.1|    2.8|  24.5| 321|http://www.forbes...|     1|\n|           MTN Group|Telecommunication...|Telecommunication...|   Africa|South Africa|       38.1| 14.1|    2.7|  21.7| 378|http://www.forbes...|     1|\n|China Cinda Asset...|                null|                null|     Asia|       China|       20.1|    4|    1.2|  46.2| 685|http://www.forbes...|     1|\n|       Hyundai Motor|Consumer Discreti...|Auto & Truck Manu...|     Asia| South Korea|       49.7| 79.8|    7.8| 126.4|  87|http://www.forbes...|     1|\n|       Japan Tobacco|    Consumer Staples|             Tobacco|     Asia|       Japan|       56.9| 23.5|    4.5|  41.8| 209|http://www.forbes...|     1|\n|              LukOil|              Energy|Oil & Gas Operations|     Asia|      Russia|       47.7|119.2|    7.8| 109.4|  83|http://www.forbes...|     1|\n|Sumitomo Mitsui F...|          Financials|         Major Banks|     Asia|       Japan|       58.6| 46.2|    9.7|1494.7|  56|http://www.forbes...|     1|\n|      Otsuka Holding|         Health Care|     Pharmaceuticals|     Asia|       Japan|       16.1| 14.4|    1.8|  17.9| 527|http://www.forbes...|     1|\n|     Mitsubishi Corp|         Industrials|   Trading Companies|     Asia|       Japan|       30.5| 74.8|    4.4| 146.5| 126|http://www.forbes...|     1|\n|Taiwan Semiconductor|Information Techn...|      Semiconductors|     Asia|      Taiwan|        102| 20.1|    6.3|  42.4| 190|http://www.forbes...|     1|\n|China Shenhua Energy|           Materials|Diversified Metal...|     Asia|       China|       57.6| 42.8|    7.2|  80.4| 124|http://www.forbes...|     1|\n|            Softbank|Telecommunication...|Telecommunication...|     Asia|       Japan|       91.2| 55.6|    5.8| 156.6|  73|http://www.forbes...|     1|\n|                NTPC|           Utilities|  Electric Utilities|     Asia|       India|       16.8| 12.3|    2.3|  35.5| 424|http://www.forbes...|     1|\n|          Wesfarmers|    Consumer Staples|         Food Retail|Australia|   Australia|       43.5| 58.5|    2.3|  39.3| 205|http://www.forbes...|     1|\n|          Woolworths|    Consumer Staples|         Food Retail|Australia|   Australia|       41.3| 58.3|    2.3|  21.7| 284|http://www.forbes...|     1|\n|  Woodside Petroleum|              Energy|Oil & Gas Operations|Australia|   Australia|       29.4|  6.2|    1.7|  23.8| 579|http://www.forbes...|     1|\n|   Commonwealth Bank|          Financials|         Major Banks|Australia|   Australia|      114.5| 41.5|    7.9| 699.9|  49|http://www.forbes...|     1|\n+--------------------+--------------------+--------------------+---------+------------+-----------+-----+-------+------+----+--------------------+------+\nonly showing top 20 rows\n\n"
     ]
    }
   ],
   "source": [
    "w_df.where(w_df[\"c_rank\"] == 1).show()"
   ]
  }
 ],
 "metadata": {
  "application/vnd.databricks.v1+notebook": {
   "dashboards": [],
   "environmentMetadata": null,
   "language": "python",
   "notebookMetadata": {
    "pythonIndentUnit": 2
   },
   "notebookName": "window_functions",
   "widgets": {}
  }
 },
 "nbformat": 4,
 "nbformat_minor": 0
}
