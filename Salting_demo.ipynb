{
 "cells": [
  {
   "cell_type": "code",
   "execution_count": 0,
   "metadata": {
    "application/vnd.databricks.v1+cell": {
     "cellMetadata": {
      "byteLimit": 2048000,
      "rowLimit": 10000
     },
     "inputWidgets": {},
     "nuid": "24184f94-b911-4402-a133-88d2d023c8e8",
     "showTitle": false,
     "title": ""
    }
   },
   "outputs": [],
   "source": [
    "from pyspark.sql import SparkSession\n",
    "import pyspark.sql.functions as F\n",
    "import random\n",
    "\n",
    "spark = SparkSession.builder.appName(\"Salting Example\").getOrCreate()"
   ]
  },
  {
   "cell_type": "code",
   "execution_count": 0,
   "metadata": {
    "application/vnd.databricks.v1+cell": {
     "cellMetadata": {
      "byteLimit": 2048000,
      "rowLimit": 10000
     },
     "inputWidgets": {},
     "nuid": "b0776c62-2266-4bf8-aecb-816fcc6d22bd",
     "showTitle": false,
     "title": ""
    }
   },
   "outputs": [
    {
     "output_type": "stream",
     "name": "stdout",
     "output_type": "stream",
     "text": [
      "+---+-----+\n|key|value|\n+---+-----+\n|  A|    1|\n|  A|    2|\n|  A|    3|\n|  B|    1|\n|  B|    2|\n|  C|    1|\n+---+-----+\n\n"
     ]
    }
   ],
   "source": [
    "# Sample data\n",
    "data = [(\"A\", 1), (\"A\", 2), (\"A\", 3), (\"B\", 1), (\"B\", 2), (\"C\", 1)]\n",
    "df = spark.createDataFrame(data, [\"key\", \"value\"])\n",
    "df.show()"
   ]
  },
  {
   "cell_type": "code",
   "execution_count": 0,
   "metadata": {
    "application/vnd.databricks.v1+cell": {
     "cellMetadata": {
      "byteLimit": 2048000,
      "rowLimit": 10000
     },
     "inputWidgets": {},
     "nuid": "69b190d6-8e97-4cf7-81ef-e56e47e43750",
     "showTitle": false,
     "title": ""
    }
   },
   "outputs": [
    {
     "output_type": "stream",
     "name": "stdout",
     "output_type": "stream",
     "text": [
      "+---+-----+----+----------+\n|key|value|salt|salted_key|\n+---+-----+----+----------+\n|  A|    1|   3|       A_3|\n|  A|    2|   4|       A_4|\n|  A|    3|   4|       A_4|\n|  B|    1|   1|       B_1|\n|  B|    2|   3|       B_3|\n|  C|    1|   0|       C_0|\n+---+-----+----+----------+\n\n"
     ]
    }
   ],
   "source": [
    "# Introduce salting\n",
    "salted_df = (\n",
    "    df.withColumn(\"salt\", (F.rand() * 5).cast(\"int\"))  # Create a salt column with values 0-4\n",
    "    .withColumn(\"salted_key\", F.concat(F.col(\"key\"), F.lit(\"_\"), F.col(\"salt\")))  # Combine key and salt\n",
    ")\n",
    "\n",
    "salted_df.show()"
   ]
  },
  {
   "cell_type": "code",
   "execution_count": 0,
   "metadata": {
    "application/vnd.databricks.v1+cell": {
     "cellMetadata": {
      "byteLimit": 2048000,
      "rowLimit": 10000
     },
     "inputWidgets": {},
     "nuid": "91608c82-2471-4508-8284-829719a04c92",
     "showTitle": false,
     "title": ""
    }
   },
   "outputs": [
    {
     "output_type": "stream",
     "name": "stdout",
     "output_type": "stream",
     "text": [
      "+----------+---------+\n|salted_key|sum_value|\n+----------+---------+\n|       A_3|        1|\n|       A_4|        5|\n|       B_1|        1|\n|       B_3|        2|\n|       C_0|        1|\n+----------+---------+\n\n"
     ]
    }
   ],
   "source": [
    "# Perform the operation (e.g., group by)\n",
    "result_df = (\n",
    "    salted_df.groupBy(\"salted_key\")\n",
    "    .agg(F.sum(\"value\").alias(\"sum_value\"))\n",
    ")\n",
    "\n",
    "result_df.show()"
   ]
  },
  {
   "cell_type": "code",
   "execution_count": 0,
   "metadata": {
    "application/vnd.databricks.v1+cell": {
     "cellMetadata": {
      "byteLimit": 2048000,
      "rowLimit": 10000
     },
     "inputWidgets": {},
     "nuid": "d203f48f-f2c7-4f9c-987b-ee76019a08e4",
     "showTitle": false,
     "title": ""
    }
   },
   "outputs": [
    {
     "output_type": "stream",
     "name": "stdout",
     "output_type": "stream",
     "text": [
      "+---+---------+\n|key|sum_value|\n+---+---------+\n|  A|        1|\n|  A|        5|\n|  B|        1|\n|  B|        2|\n|  C|        1|\n+---+---------+\n\n"
     ]
    }
   ],
   "source": [
    "# Remove salt to restore original keys (optional)\n",
    "final_result = (\n",
    "    result_df.withColumn(\"key\", F.split(F.col(\"salted_key\"), \"_\")[0])\n",
    "    .select(\"key\", \"sum_value\")\n",
    ")\n",
    "\n",
    "final_result.show()"
   ]
  }
 ],
 "metadata": {
  "application/vnd.databricks.v1+notebook": {
   "dashboards": [],
   "environmentMetadata": null,
   "language": "python",
   "notebookMetadata": {
    "pythonIndentUnit": 4
   },
   "notebookName": "Salting_demo",
   "widgets": {}
  }
 },
 "nbformat": 4,
 "nbformat_minor": 0
}
