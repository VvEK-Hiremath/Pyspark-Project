{
 "cells": [
  {
   "cell_type": "code",
   "execution_count": 0,
   "metadata": {
    "application/vnd.databricks.v1+cell": {
     "cellMetadata": {
      "byteLimit": 2048000,
      "rowLimit": 10000
     },
     "inputWidgets": {},
     "nuid": "34733d8d-2729-41b2-a481-38da9905a722",
     "showTitle": false,
     "title": ""
    }
   },
   "outputs": [
    {
     "output_type": "stream",
     "name": "stdout",
     "output_type": "stream",
     "text": [
      "+--------------------+----------+-------------------+-------------+-------------+-----------+-----+-------+------+----+--------------------+\n|             company|    sector|           industry|    continent|      country|marketvalue|sales|profits|assets|rank|       forbeswebpage|\n+--------------------+----------+-------------------+-------------+-------------+-----------+-----+-------+------+----+--------------------+\n|                ICBC|Financials|        Major Banks|         Asia|        China|      215.6|148.7|   42.7|3124.9|   1|http://www.forbes...|\n|China Constructio...|Financials|     Regional Banks|         Asia|        China|      174.4|121.3|   34.2|2449.5|   2|http://www.forbes...|\n|Agricultural Bank...|Financials|     Regional Banks|         Asia|        China|      141.1|136.4|   27.0|2405.4|   3|http://www.forbes...|\n|      JPMorgan Chase|Financials|        Major Banks|North America|United States|      229.7|105.7|   17.3|2435.3|   4|http://www.forbes...|\n|  Berkshire Hathaway|Financials|Investment Services|North America|United States|      309.1|178.8|   19.5| 493.4|   5|http://www.forbes...|\n+--------------------+----------+-------------------+-------------+-------------+-----------+-----+-------+------+----+--------------------+\nonly showing top 5 rows\n\n"
     ]
    }
   ],
   "source": [
    "# Assuming you have already set up your Spark session\n",
    "from pyspark.sql import SparkSession\n",
    "\n",
    "# Create a Spark session\n",
    "spark = SparkSession.builder \\\n",
    "    .appName(\"Read Table \") \\\n",
    "    .getOrCreate()\n",
    "\n",
    "# Replace 'your_database' and 'your_table' with your actual database and table names\n",
    "database_name = \"default\"\n",
    "table_name = \"data_forbes\"\n",
    "\n",
    "# Read the table\n",
    "df = spark.table(f\"{database_name}.{table_name}\")\n",
    "\n",
    "# Show the data\n",
    "df.show(5)\n"
   ]
  },
  {
   "cell_type": "code",
   "execution_count": 0,
   "metadata": {
    "application/vnd.databricks.v1+cell": {
     "cellMetadata": {
      "byteLimit": 2048000,
      "rowLimit": 10000
     },
     "inputWidgets": {},
     "nuid": "04ff2e60-d985-44dd-9346-703e5a3ccde0",
     "showTitle": false,
     "title": ""
    }
   },
   "outputs": [
    {
     "output_type": "stream",
     "name": "stdout",
     "output_type": "stream",
     "text": [
      "+--------------------+----------+-------------------+-------------+-------------+-----------+-----+-------+------+----+--------------------+----------+\n|             company|    sector|           industry|    continent|      country|marketvalue|sales|profits|assets|rank|       forbeswebpage|     Costs|\n+--------------------+----------+-------------------+-------------+-------------+-----------+-----+-------+------+----+--------------------+----------+\n|                ICBC|Financials|        Major Banks|         Asia|        China|      215.6|148.7|   42.7|3124.9|   1|http://www.forbes...|     106.0|\n|China Constructio...|Financials|     Regional Banks|         Asia|        China|      174.4|121.3|   34.2|2449.5|   2|http://www.forbes...| 87.100006|\n|Agricultural Bank...|Financials|     Regional Banks|         Asia|        China|      141.1|136.4|   27.0|2405.4|   3|http://www.forbes...|109.399994|\n|      JPMorgan Chase|Financials|        Major Banks|North America|United States|      229.7|105.7|   17.3|2435.3|   4|http://www.forbes...| 88.399994|\n|  Berkshire Hathaway|Financials|Investment Services|North America|United States|      309.1|178.8|   19.5| 493.4|   5|http://www.forbes...|     159.3|\n+--------------------+----------+-------------------+-------------+-------------+-----------+-----+-------+------+----+--------------------+----------+\nonly showing top 5 rows\n\n"
     ]
    }
   ],
   "source": [
    "from pyspark.sql.functions import *\n",
    "# Adding a new column 'NewValue' based on 'Value'\n",
    "df_tr = df.withColumn(\"Costs\", col(\"sales\") - col(\"profits\"))\n",
    "\n",
    "# Show the new DataFrame\n",
    "df_tr.show(5)"
   ]
  },
  {
   "cell_type": "code",
   "execution_count": 0,
   "metadata": {
    "application/vnd.databricks.v1+cell": {
     "cellMetadata": {
      "byteLimit": 2048000,
      "rowLimit": 10000
     },
     "inputWidgets": {},
     "nuid": "15cbc621-9ade-424c-88b6-de3f9a9db9b6",
     "showTitle": false,
     "title": ""
    }
   },
   "outputs": [],
   "source": [
    "# Unpersisting the DataFrame\n",
    "df_tr.unpersist()\n",
    "\n",
    "# Optionally, delete the variable\n",
    "del df_tr"
   ]
  },
  {
   "cell_type": "code",
   "execution_count": 0,
   "metadata": {
    "application/vnd.databricks.v1+cell": {
     "cellMetadata": {
      "byteLimit": 2048000,
      "rowLimit": 10000
     },
     "inputWidgets": {},
     "nuid": "616b590d-24cd-4c11-8222-e8adeab1db17",
     "showTitle": false,
     "title": ""
    }
   },
   "outputs": [
    {
     "output_type": "stream",
     "name": "stdout",
     "output_type": "stream",
     "text": [
      "Out[7]: ['company',\n 'sector',\n 'industry',\n 'continent',\n 'country',\n 'marketvalue',\n 'sales',\n 'profits',\n 'assets',\n 'rank',\n 'forbeswebpage']"
     ]
    }
   ],
   "source": [
    "df.columns"
   ]
  },
  {
   "cell_type": "code",
   "execution_count": 0,
   "metadata": {
    "application/vnd.databricks.v1+cell": {
     "cellMetadata": {
      "byteLimit": 2048000,
      "rowLimit": 10000
     },
     "inputWidgets": {},
     "nuid": "c31b0cec-9114-423f-8334-4645b6abaa32",
     "showTitle": false,
     "title": ""
    }
   },
   "outputs": [
    {
     "output_type": "stream",
     "name": "stdout",
     "output_type": "stream",
     "text": [
      "+--------------------+-----------+-----+-------+----------+\n|             company|marketvalue|sales|profits|      cost|\n+--------------------+-----------+-----+-------+----------+\n|                ICBC|      215.6|148.7|   42.7|     106.0|\n|China Constructio...|      174.4|121.3|   34.2| 87.100006|\n|Agricultural Bank...|      141.1|136.4|   27.0|109.399994|\n|      JPMorgan Chase|      229.7|105.7|   17.3| 88.399994|\n|  Berkshire Hathaway|      309.1|178.8|   19.5|     159.3|\n+--------------------+-----------+-----+-------+----------+\nonly showing top 5 rows\n\n"
     ]
    }
   ],
   "source": [
    "df_tr = df.select('company','marketvalue','sales','profits',(col(\"sales\") - col(\"profits\")).alias('cost'))\n",
    "\n",
    "df_tr.show(5)"
   ]
  },
  {
   "cell_type": "code",
   "execution_count": 0,
   "metadata": {
    "application/vnd.databricks.v1+cell": {
     "cellMetadata": {
      "byteLimit": 2048000,
      "rowLimit": 10000
     },
     "inputWidgets": {},
     "nuid": "b629d044-a874-4044-8863-65bfd42d8cc9",
     "showTitle": false,
     "title": ""
    }
   },
   "outputs": [
    {
     "output_type": "stream",
     "name": "stdout",
     "output_type": "stream",
     "text": [
      "+--------------------+-----------+-----+-------+----------+\n|             company|marketvalue|sales|profits|      cost|\n+--------------------+-----------+-----+-------+----------+\n|                ICBC|      215.6|148.7|   42.7|     106.0|\n|China Constructio...|      174.4|121.3|   34.2| 87.100006|\n|Agricultural Bank...|      141.1|136.4|   27.0|109.399994|\n|         Exxon Mobil|      422.3|394.0|   32.6|     361.4|\n|         Wells Fargo|      261.4| 88.7|   21.9| 66.799995|\n|       Bank of China|      124.2|105.1|   25.5|      79.6|\n|          PetroChina|      202.0|328.5|   21.1|     307.4|\n|               Apple|      483.1|173.8|   37.0|     136.8|\n|                  BP|      148.8|379.2|   23.6|     355.6|\n|             Chevron|      227.2|211.8|   21.4| 190.40001|\n|             Gazprom|       88.8|164.6|   39.0|125.600006|\n| Samsung Electronics|      186.5|208.9|   27.2|     181.7|\n|           Microsoft|      343.8| 83.3|   22.8| 60.500004|\n|            Vodafone|       96.9| 65.1|   31.8|      33.3|\n|              Pfizer|      203.9| 52.7|   22.0|      30.7|\n|          Fannie Mae|        4.6|122.9|   84.0|      38.9|\n|         Freddie Mac|        2.6| 62.2|   48.7|      13.5|\n+--------------------+-----------+-----+-------+----------+\n\n"
     ]
    }
   ],
   "source": [
    "df_tr.select('*').where(df_tr.profits > 20).show()"
   ]
  },
  {
   "cell_type": "code",
   "execution_count": 0,
   "metadata": {
    "application/vnd.databricks.v1+cell": {
     "cellMetadata": {
      "byteLimit": 2048000,
      "rowLimit": 10000
     },
     "inputWidgets": {},
     "nuid": "724345d9-56ce-4d53-9e6c-6a76f9aa7b2f",
     "showTitle": false,
     "title": ""
    }
   },
   "outputs": [],
   "source": [
    "from pyspark.sql import Window\n",
    "wndw = Window.orderBy(col(\"Cost\").desc())\n",
    "df_tr = df_tr.withColumn('cost_rank',rank().over(wndw))"
   ]
  },
  {
   "cell_type": "code",
   "execution_count": 0,
   "metadata": {
    "application/vnd.databricks.v1+cell": {
     "cellMetadata": {
      "byteLimit": 2048000,
      "rowLimit": 10000
     },
     "inputWidgets": {},
     "nuid": "0548962a-f264-4c8c-b185-b63d741fd42c",
     "showTitle": false,
     "title": ""
    }
   },
   "outputs": [
    {
     "output_type": "stream",
     "name": "stdout",
     "output_type": "stream",
     "text": [
      "+--------------------+-----------+-----+-------+-----+---------+\n|             company|marketvalue|sales|profits| cost|cost_rank|\n+--------------------+-----------+-----+-------+-----+---------+\n|     Wal-Mart Stores|      247.9|476.5|   16.0|460.5|        1|\n|   Royal Dutch Shell|      234.1|451.4|   16.4|435.0|        2|\n|Sinopec-China Pet...|       94.7|445.3|   10.9|434.4|        3|\n|         Exxon Mobil|      422.3|394.0|   32.6|361.4|        4|\n|                  BP|      148.8|379.2|   23.6|355.6|        5|\n|          PetroChina|      202.0|328.5|   21.1|307.4|        6|\n|    Volkswagen Group|      119.0|261.5|   12.0|249.5|        7|\n|Glencore Internat...|       67.5|232.6|   -7.5|240.1|        8|\n|        Toyota Motor|      193.5|255.6|   18.8|236.8|        9|\n|               Total|      149.8|227.9|   11.2|216.7|       10|\n+--------------------+-----------+-----+-------+-----+---------+\n\n"
     ]
    }
   ],
   "source": [
    "top_high_cost = df_tr.filter(df_tr.cost_rank <= 10).orderBy(df_tr.cost_rank.asc())\n",
    "top_high_cost.show()"
   ]
  },
  {
   "cell_type": "code",
   "execution_count": 0,
   "metadata": {
    "application/vnd.databricks.v1+cell": {
     "cellMetadata": {
      "byteLimit": 2048000,
      "rowLimit": 10000
     },
     "inputWidgets": {},
     "nuid": "ad3143f8-04f2-4a5f-a6dc-b60ce429b6c3",
     "showTitle": false,
     "title": ""
    }
   },
   "outputs": [],
   "source": [
    "top_high_cost.write.csv('high_cost_operating_companies.csv')"
   ]
  }
 ],
 "metadata": {
  "application/vnd.databricks.v1+notebook": {
   "dashboards": [],
   "environmentMetadata": null,
   "language": "python",
   "notebookMetadata": {
    "pythonIndentUnit": 4
   },
   "notebookName": "Pyspark_Daily_Practice",
   "widgets": {}
  }
 },
 "nbformat": 4,
 "nbformat_minor": 0
}
